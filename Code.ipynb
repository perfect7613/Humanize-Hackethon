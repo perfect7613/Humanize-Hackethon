{
 "cells": [
  {
   "cell_type": "code",
   "execution_count": 1,
   "metadata": {},
   "outputs": [
    {
     "name": "stderr",
     "output_type": "stream",
     "text": [
      "d:\\Langchain Implementation\\myvenv\\lib\\site-packages\\tqdm\\auto.py:21: TqdmWarning: IProgress not found. Please update jupyter and ipywidgets. See https://ipywidgets.readthedocs.io/en/stable/user_install.html\n",
      "  from .autonotebook import tqdm as notebook_tqdm\n"
     ]
    }
   ],
   "source": [
    "from dotenv import load_dotenv\n",
    "load_dotenv()\n",
    "import pandas as pd\n",
    "import numpy as np\n",
    "import gradio as gr\n",
    "import os\n",
    "from langchain_google_genai import ChatGoogleGenerativeAI\n",
    "from langchain_experimental.agents import create_pandas_dataframe_agent"
   ]
  },
  {
   "cell_type": "code",
   "execution_count": 4,
   "metadata": {},
   "outputs": [],
   "source": [
    "df = pd.read_csv('data/Loantypes1-2-3-4.csv')"
   ]
  },
  {
   "cell_type": "code",
   "execution_count": 5,
   "metadata": {},
   "outputs": [
    {
     "data": {
      "text/html": [
       "<div>\n",
       "<style scoped>\n",
       "    .dataframe tbody tr th:only-of-type {\n",
       "        vertical-align: middle;\n",
       "    }\n",
       "\n",
       "    .dataframe tbody tr th {\n",
       "        vertical-align: top;\n",
       "    }\n",
       "\n",
       "    .dataframe thead th {\n",
       "        text-align: right;\n",
       "    }\n",
       "</style>\n",
       "<table border=\"1\" class=\"dataframe\">\n",
       "  <thead>\n",
       "    <tr style=\"text-align: right;\">\n",
       "      <th></th>\n",
       "      <th>activity_year</th>\n",
       "      <th>lei</th>\n",
       "      <th>derived_msa-md</th>\n",
       "      <th>state_code</th>\n",
       "      <th>county_code</th>\n",
       "      <th>census_tract</th>\n",
       "      <th>conforming_loan_limit</th>\n",
       "      <th>derived_loan_product_type</th>\n",
       "      <th>derived_dwelling_category</th>\n",
       "      <th>derived_ethnicity</th>\n",
       "      <th>...</th>\n",
       "      <th>denial_reason-2</th>\n",
       "      <th>denial_reason-3</th>\n",
       "      <th>denial_reason-4</th>\n",
       "      <th>tract_population</th>\n",
       "      <th>tract_minority_population_percent</th>\n",
       "      <th>ffiec_msa_md_median_family_income</th>\n",
       "      <th>tract_to_msa_income_percentage</th>\n",
       "      <th>tract_owner_occupied_units</th>\n",
       "      <th>tract_one_to_four_family_homes</th>\n",
       "      <th>tract_median_age_of_housing_units</th>\n",
       "    </tr>\n",
       "  </thead>\n",
       "  <tbody>\n",
       "    <tr>\n",
       "      <th>0</th>\n",
       "      <td>2022</td>\n",
       "      <td>549300ZGZ9WQMJLEPH17</td>\n",
       "      <td>15380</td>\n",
       "      <td>NY</td>\n",
       "      <td>36029</td>\n",
       "      <td>36029013201</td>\n",
       "      <td>C</td>\n",
       "      <td>Conventional:First Lien</td>\n",
       "      <td>Single Family (1-4 Units):Site-Built</td>\n",
       "      <td>Not Hispanic or Latino</td>\n",
       "      <td>...</td>\n",
       "      <td>NaN</td>\n",
       "      <td>NaN</td>\n",
       "      <td>NaN</td>\n",
       "      <td>6236</td>\n",
       "      <td>8.76</td>\n",
       "      <td>87700</td>\n",
       "      <td>111</td>\n",
       "      <td>1852</td>\n",
       "      <td>2278</td>\n",
       "      <td>45</td>\n",
       "    </tr>\n",
       "    <tr>\n",
       "      <th>1</th>\n",
       "      <td>2022</td>\n",
       "      <td>549300ZGZ9WQMJLEPH17</td>\n",
       "      <td>40380</td>\n",
       "      <td>NY</td>\n",
       "      <td>36055</td>\n",
       "      <td>36055011209</td>\n",
       "      <td>C</td>\n",
       "      <td>Conventional:First Lien</td>\n",
       "      <td>Single Family (1-4 Units):Site-Built</td>\n",
       "      <td>Not Hispanic or Latino</td>\n",
       "      <td>...</td>\n",
       "      <td>NaN</td>\n",
       "      <td>NaN</td>\n",
       "      <td>NaN</td>\n",
       "      <td>4127</td>\n",
       "      <td>18.20</td>\n",
       "      <td>91200</td>\n",
       "      <td>83</td>\n",
       "      <td>1089</td>\n",
       "      <td>1670</td>\n",
       "      <td>30</td>\n",
       "    </tr>\n",
       "    <tr>\n",
       "      <th>2</th>\n",
       "      <td>2022</td>\n",
       "      <td>549300ZGZ9WQMJLEPH17</td>\n",
       "      <td>15380</td>\n",
       "      <td>NY</td>\n",
       "      <td>36029</td>\n",
       "      <td>36029012904</td>\n",
       "      <td>C</td>\n",
       "      <td>Conventional:First Lien</td>\n",
       "      <td>Single Family (1-4 Units):Site-Built</td>\n",
       "      <td>Not Hispanic or Latino</td>\n",
       "      <td>...</td>\n",
       "      <td>NaN</td>\n",
       "      <td>NaN</td>\n",
       "      <td>NaN</td>\n",
       "      <td>4133</td>\n",
       "      <td>12.85</td>\n",
       "      <td>87700</td>\n",
       "      <td>82</td>\n",
       "      <td>1122</td>\n",
       "      <td>1411</td>\n",
       "      <td>55</td>\n",
       "    </tr>\n",
       "    <tr>\n",
       "      <th>3</th>\n",
       "      <td>2022</td>\n",
       "      <td>549300ZGZ9WQMJLEPH17</td>\n",
       "      <td>15380</td>\n",
       "      <td>NY</td>\n",
       "      <td>36029</td>\n",
       "      <td>36029013400</td>\n",
       "      <td>C</td>\n",
       "      <td>FHA:First Lien</td>\n",
       "      <td>Single Family (1-4 Units):Site-Built</td>\n",
       "      <td>Not Hispanic or Latino</td>\n",
       "      <td>...</td>\n",
       "      <td>NaN</td>\n",
       "      <td>NaN</td>\n",
       "      <td>NaN</td>\n",
       "      <td>6594</td>\n",
       "      <td>7.31</td>\n",
       "      <td>87700</td>\n",
       "      <td>159</td>\n",
       "      <td>2116</td>\n",
       "      <td>2700</td>\n",
       "      <td>67</td>\n",
       "    </tr>\n",
       "    <tr>\n",
       "      <th>4</th>\n",
       "      <td>2022</td>\n",
       "      <td>549300ZGZ9WQMJLEPH17</td>\n",
       "      <td>40380</td>\n",
       "      <td>NY</td>\n",
       "      <td>36055</td>\n",
       "      <td>36055014003</td>\n",
       "      <td>C</td>\n",
       "      <td>Conventional:First Lien</td>\n",
       "      <td>Single Family (1-4 Units):Site-Built</td>\n",
       "      <td>Not Hispanic or Latino</td>\n",
       "      <td>...</td>\n",
       "      <td>NaN</td>\n",
       "      <td>NaN</td>\n",
       "      <td>NaN</td>\n",
       "      <td>4641</td>\n",
       "      <td>27.41</td>\n",
       "      <td>91200</td>\n",
       "      <td>94</td>\n",
       "      <td>1431</td>\n",
       "      <td>1596</td>\n",
       "      <td>60</td>\n",
       "    </tr>\n",
       "  </tbody>\n",
       "</table>\n",
       "<p>5 rows × 99 columns</p>\n",
       "</div>"
      ],
      "text/plain": [
       "   activity_year                   lei  derived_msa-md state_code  \\\n",
       "0           2022  549300ZGZ9WQMJLEPH17           15380         NY   \n",
       "1           2022  549300ZGZ9WQMJLEPH17           40380         NY   \n",
       "2           2022  549300ZGZ9WQMJLEPH17           15380         NY   \n",
       "3           2022  549300ZGZ9WQMJLEPH17           15380         NY   \n",
       "4           2022  549300ZGZ9WQMJLEPH17           40380         NY   \n",
       "\n",
       "   county_code  census_tract conforming_loan_limit derived_loan_product_type  \\\n",
       "0        36029   36029013201                     C   Conventional:First Lien   \n",
       "1        36055   36055011209                     C   Conventional:First Lien   \n",
       "2        36029   36029012904                     C   Conventional:First Lien   \n",
       "3        36029   36029013400                     C            FHA:First Lien   \n",
       "4        36055   36055014003                     C   Conventional:First Lien   \n",
       "\n",
       "              derived_dwelling_category       derived_ethnicity  ...  \\\n",
       "0  Single Family (1-4 Units):Site-Built  Not Hispanic or Latino  ...   \n",
       "1  Single Family (1-4 Units):Site-Built  Not Hispanic or Latino  ...   \n",
       "2  Single Family (1-4 Units):Site-Built  Not Hispanic or Latino  ...   \n",
       "3  Single Family (1-4 Units):Site-Built  Not Hispanic or Latino  ...   \n",
       "4  Single Family (1-4 Units):Site-Built  Not Hispanic or Latino  ...   \n",
       "\n",
       "  denial_reason-2 denial_reason-3  denial_reason-4  tract_population  \\\n",
       "0             NaN             NaN              NaN              6236   \n",
       "1             NaN             NaN              NaN              4127   \n",
       "2             NaN             NaN              NaN              4133   \n",
       "3             NaN             NaN              NaN              6594   \n",
       "4             NaN             NaN              NaN              4641   \n",
       "\n",
       "   tract_minority_population_percent  ffiec_msa_md_median_family_income  \\\n",
       "0                               8.76                              87700   \n",
       "1                              18.20                              91200   \n",
       "2                              12.85                              87700   \n",
       "3                               7.31                              87700   \n",
       "4                              27.41                              91200   \n",
       "\n",
       "   tract_to_msa_income_percentage  tract_owner_occupied_units  \\\n",
       "0                             111                        1852   \n",
       "1                              83                        1089   \n",
       "2                              82                        1122   \n",
       "3                             159                        2116   \n",
       "4                              94                        1431   \n",
       "\n",
       "   tract_one_to_four_family_homes  tract_median_age_of_housing_units  \n",
       "0                            2278                                 45  \n",
       "1                            1670                                 30  \n",
       "2                            1411                                 55  \n",
       "3                            2700                                 67  \n",
       "4                            1596                                 60  \n",
       "\n",
       "[5 rows x 99 columns]"
      ]
     },
     "execution_count": 5,
     "metadata": {},
     "output_type": "execute_result"
    }
   ],
   "source": [
    "df.head()"
   ]
  },
  {
   "cell_type": "code",
   "execution_count": 6,
   "metadata": {},
   "outputs": [],
   "source": [
    "llm = ChatGoogleGenerativeAI(model=\"gemini-1.5-flash\",\n",
    "                             verbose=True,\n",
    "                             temperature=0.5,\n",
    "                             google_api_key=os.getenv(\"GOOGLE_API_KEY\"))"
   ]
  },
  {
   "cell_type": "code",
   "execution_count": 7,
   "metadata": {},
   "outputs": [],
   "source": [
    "agent = create_pandas_dataframe_agent(llm, df, allow_dangerous_code=True)"
   ]
  },
  {
   "cell_type": "code",
   "execution_count": 8,
   "metadata": {},
   "outputs": [],
   "source": [
    "def run_custom_query(query):\n",
    "    response = agent.run(query)\n",
    "    return response"
   ]
  },
  {
   "cell_type": "code",
   "execution_count": 11,
   "metadata": {},
   "outputs": [],
   "source": [
    "iface = gr.Interface(\n",
    "    fn=run_custom_query,\n",
    "    inputs=[\n",
    "        gr.Textbox(lines=2, placeholder=\"Enter your query here...\", label=\"Query\")\n",
    "    ],\n",
    "    outputs=\"text\",\n",
    "    title=\"Financial Report Chatbot with Google Generative AI\",\n",
    "    description=\"Ask questions about the fianances using Google Generative AI.\"\n",
    ")"
   ]
  },
  {
   "cell_type": "code",
   "execution_count": 12,
   "metadata": {},
   "outputs": [
    {
     "name": "stdout",
     "output_type": "stream",
     "text": [
      "Running on local URL:  http://127.0.0.1:7861\n",
      "\n",
      "To create a public link, set `share=True` in `launch()`.\n"
     ]
    },
    {
     "data": {
      "text/html": [
       "<div><iframe src=\"http://127.0.0.1:7861/\" width=\"100%\" height=\"500\" allow=\"autoplay; camera; microphone; clipboard-read; clipboard-write;\" frameborder=\"0\" allowfullscreen></iframe></div>"
      ],
      "text/plain": [
       "<IPython.core.display.HTML object>"
      ]
     },
     "metadata": {},
     "output_type": "display_data"
    },
    {
     "data": {
      "text/plain": []
     },
     "execution_count": 12,
     "metadata": {},
     "output_type": "execute_result"
    }
   ],
   "source": [
    "iface.launch()"
   ]
  }
 ],
 "metadata": {
  "kernelspec": {
   "display_name": "myvenv",
   "language": "python",
   "name": "python3"
  },
  "language_info": {
   "codemirror_mode": {
    "name": "ipython",
    "version": 3
   },
   "file_extension": ".py",
   "mimetype": "text/x-python",
   "name": "python",
   "nbconvert_exporter": "python",
   "pygments_lexer": "ipython3",
   "version": "3.10.0"
  }
 },
 "nbformat": 4,
 "nbformat_minor": 2
}
